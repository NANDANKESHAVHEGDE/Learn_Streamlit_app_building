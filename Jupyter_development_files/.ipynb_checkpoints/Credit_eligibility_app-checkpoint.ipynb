{
 "cells": [
  {
   "cell_type": "code",
   "execution_count": 1,
   "id": "b2bd087c",
   "metadata": {},
   "outputs": [],
   "source": [
    "import streamlit as st\n",
    "import pandas as pd\n",
    "import numpy as np\n",
    "from sklearn.model_selection import train_test_split\n",
    "from sklearn.metrics import accuracy_score, classification_report\n",
    "from xgboost import XGBClassifier\n",
    "import pickle\n",
    "import warnings\n",
    "warnings.filterwarnings(\"ignore\")"
   ]
  },
  {
   "cell_type": "markdown",
   "id": "0a085aef",
   "metadata": {},
   "source": [
    "# Data Generation"
   ]
  },
  {
   "cell_type": "code",
   "execution_count": 3,
   "id": "ea8d7ea3",
   "metadata": {},
   "outputs": [],
   "source": [
    "np.random.seed(42)\n",
    "num_samples = 10000  # Adjust the number of samples as needed\n",
    "data = {\n",
    "    'CNT_CHILDREN': np.random.randint(0, 3, num_samples),\n",
    "    'AMT_INCOME_TOTAL': np.random.uniform(20000, 150000, num_samples),\n",
    "    'NAME_INCOME_TYPE': np.random.choice(['Working', 'Commercial_associate', 'Pensioner', 'State_servant', 'Student'], num_samples),\n",
    "    'NAME_EDUCATION_TYPE': np.random.choice(['Higher_education', 'Secondary', 'Incomplete_higher', 'Lower_secondary', 'Academic_degree'], num_samples),\n",
    "    'NAME_FAMILY_STATUS': np.random.choice(['Civil_marriage', 'Married', 'Single', 'Separated', 'Widow'], num_samples),\n",
    "    'NAME_HOUSING_TYPE': np.random.choice(['Rented_apartment','Municipal_apartment', 'With_parents', 'Co-op_apartment', 'Office_apartment'], num_samples),\n",
    "    'YEARS_EMPLOYED': np.random.randint(1, 30, num_samples) * 365,  # Assuming employment duration between 1 and 30 years\n",
    "    'FLAG_PHONE': np.random.choice(['Y', 'N'], num_samples),\n",
    "    'CNT_FAM_MEMBERS': np.random.randint(1, 5, num_samples),\n",
    "    'CODE_GENDER': np.random.choice(['M', 'F'], num_samples),\n",
    "    'FLAG_OWN_CAR': np.random.choice(['Y', 'N'], num_samples),\n",
    "    'FLAG_OWN_REALTY': np.random.choice(['Y', 'N'], num_samples),\n",
    "    'TARGET': np.random.choice([0, 1], num_samples)  # Binary target variable (approved or declined)\n",
    "}\n",
    "df = pd.DataFrame(data)"
   ]
  },
  {
   "cell_type": "markdown",
   "id": "17d30634",
   "metadata": {},
   "source": [
    "# Train the Model "
   ]
  },
  {
   "cell_type": "code",
   "execution_count": 4,
   "id": "5241c7dc",
   "metadata": {},
   "outputs": [
    {
     "name": "stdout",
     "output_type": "stream",
     "text": [
      "Validation Accuracy: 0.5045\n",
      "Validation Classification Report:\n",
      "              precision    recall  f1-score   support\n",
      "\n",
      "           0       0.49      0.49      0.49       980\n",
      "           1       0.51      0.52      0.52      1020\n",
      "\n",
      "    accuracy                           0.50      2000\n",
      "   macro avg       0.50      0.50      0.50      2000\n",
      "weighted avg       0.50      0.50      0.50      2000\n",
      "\n"
     ]
    }
   ],
   "source": [
    "# Separate features and labels\n",
    "X = df.drop('TARGET', axis=1)\n",
    "y = df['TARGET']\n",
    "# Create dummy variables for categorical features\n",
    "X = pd.get_dummies(X, columns=['CODE_GENDER', 'FLAG_OWN_CAR', 'FLAG_PHONE', 'FLAG_OWN_REALTY', 'NAME_INCOME_TYPE', 'NAME_EDUCATION_TYPE', 'NAME_FAMILY_STATUS', 'NAME_HOUSING_TYPE'], drop_first=True)\n",
    "df = pd.concat([df, X],axis=1)\n",
    "df = df.drop(columns={'CODE_GENDER', 'FLAG_OWN_CAR', 'FLAG_PHONE', 'FLAG_OWN_REALTY', 'NAME_INCOME_TYPE', 'NAME_EDUCATION_TYPE', 'NAME_FAMILY_STATUS', 'NAME_HOUSING_TYPE'},axis=1)\n",
    "df = df.T.drop_duplicates().T\n",
    "# Split the dataset into training and testing sets\n",
    "X_train, X_val, y_train, y_val = train_test_split(X, y, test_size=0.2, random_state=42)\n",
    "# Train XGBoostClassifier\n",
    "clf_xgb = XGBClassifier(n_estimators=100, random_state=42)\n",
    "clf_xgb.fit(X_train,y_train)\n",
    "# Evaluate the model on the validation set\n",
    "y_val_pred = clf_xgb.predict(X_val)\n",
    "# Display evaluation metrics\n",
    "print(\"Validation Accuracy:\", accuracy_score(y_val, y_val_pred))\n",
    "print(\"Validation Classification Report:\")\n",
    "print(classification_report(y_val, y_val_pred))\n",
    "# Save the trained XGBoostClassifier model\n",
    "pickle.dump(clf_xgb, open('finalized_model_xgb.sav', 'wb'))\n",
    "# Save dummy data for reference\n",
    "df.to_csv('sample_training_data.csv', index=False)"
   ]
  },
  {
   "cell_type": "markdown",
   "id": "4abfbca6",
   "metadata": {},
   "source": [
    "# Lets Deploy the Base iteration model in the Streamlit app "
   ]
  },
  {
   "cell_type": "code",
   "execution_count": 6,
   "id": "08a75787",
   "metadata": {},
   "outputs": [],
   "source": [
    "st.write(\"\"\"\n",
    "# Credit Card Approval Prediction App\n",
    "This app predicts the credit card approval probability\n",
    "\"\"\")\n",
    "# Get Input\n",
    "st.header('User Input Parameters')\n",
    "def user_input_features():\n",
    "    gender = st.selectbox(\"CODE_GENDER\", ('M', 'F'))\n",
    "    own_car = st.selectbox(\"FLAG_OWN_CAR\", ('Y', 'N'))\n",
    "    own_realty = st.selectbox(\"FLAG_OWN_REALTY\", ('Y', 'N'))\n",
    "    own_phone = st.selectbox(\"FLAG_PHONE\", ('Y', 'N'))\n",
    "    cnt_children = st.number_input(\"CNT_CHILDREN\", min_value=0, max_value=20, step=1)\n",
    "    amt_income_total = st.number_input(\"AMT_INCOME_TOTAL\", min_value=0.0, max_value=2000000.0)\n",
    "    days_employed = st.number_input(\"DAYS_EMPLOYED\", min_value=-20000, max_value=400000, step=1)\n",
    "    cnt_fam_members = st.number_input(\"CNT_FAM_MEMBERS\", min_value=0, max_value=20, step=1)\n",
    "    name_income_type = st.selectbox(\"NAME_INCOME_TYPE\",('Working', 'Commercial_associate', 'Pensioner', 'State_servant', 'Student'))\n",
    "    name_education_type = st.selectbox(\"NAME_EDUCATION_TYPE\",('Higher_education', 'Secondary', 'Incomplete_higher', 'Lower_secondary', 'Academic_degree'))\n",
    "    name_family_status = st.selectbox(\"NAME_FAMILY_STATUS\",('Civil_marriage', 'Married', 'Single', 'Separated', 'Widow'))\n",
    "    name_housing_type = st.selectbox(\"NAME_HOUSING_TYPE\",('Rented_apartment', 'Municipal_apartment', 'With_parents','Co-op_apartment', 'Office_apartment'))\n",
    "    data = {'CNT_CHILDREN': cnt_children,\n",
    "            'AMT_INCOME_TOTAL': amt_income_total,\n",
    "            'NAME_INCOME_TYPE': name_income_type,\n",
    "            'NAME_EDUCATION_TYPE': name_education_type,\n",
    "            'NAME_FAMILY_STATUS': name_family_status,\n",
    "            'NAME_HOUSING_TYPE': name_housing_type,\n",
    "            'DAYS_EMPLOYED': days_employed,\n",
    "            'FLAG_PHONE': own_phone,\n",
    "            'CNT_FAM_MEMBERS': cnt_fam_members,\n",
    "            'CODE_GENDER': gender,\n",
    "            'FLAG_OWN_CAR': own_car,\n",
    "            'FLAG_OWN_REALTY': own_realty\n",
    "           }\n",
    "    features = pd.DataFrame(data, index=[0])\n",
    "    return features\n",
    "\n",
    "df_input = user_input_features()\n",
    "\n",
    "st.subheader('User Input parameters')\n",
    "st.write(df_input.to_dict())\n",
    "\n",
    "# Create dummy variables for categorical features\n",
    "cat_features = ['CODE_GENDER', 'FLAG_OWN_CAR', 'FLAG_PHONE', 'FLAG_OWN_REALTY', 'NAME_INCOME_TYPE', 'NAME_EDUCATION_TYPE', 'NAME_FAMILY_STATUS', 'NAME_HOUSING_TYPE']\n",
    "df_input_encoded = pd.get_dummies(df_input, columns=cat_features, drop_first=True)\n",
    "# Add missing columns with default values\n",
    "missing_columns = set(clf_xgb.get_booster().feature_names) - set(df_input_encoded.columns)\n",
    "for col in missing_columns:\n",
    "    df_input_encoded[col] = 0\n",
    "# Reorder columns to match the model's feature names\n",
    "df_input_encoded = df_input_encoded[clf_xgb.get_booster().feature_names]\n",
    "# Model Loading\n",
    "clf_xgb = pickle.load(open('finalized_model_xgb.sav', 'rb'))\n",
    "# Model Inferencing\n",
    "prediction = clf_xgb.predict(df_input_encoded)\n",
    "prediction_proba = clf_xgb.predict_proba(df_input_encoded)\n",
    "st.subheader('Prediction')\n",
    "if prediction == 0:\n",
    "    st.write('Approved')\n",
    "else:\n",
    "    st.write('Declined')\n",
    "st.subheader('Prediction Probability')\n",
    "st.write(prediction_proba)"
   ]
  }
 ],
 "metadata": {
  "kernelspec": {
   "display_name": "Python 3 (ipykernel)",
   "language": "python",
   "name": "python3"
  },
  "language_info": {
   "codemirror_mode": {
    "name": "ipython",
    "version": 3
   },
   "file_extension": ".py",
   "mimetype": "text/x-python",
   "name": "python",
   "nbconvert_exporter": "python",
   "pygments_lexer": "ipython3",
   "version": "3.11.3"
  },
  "toc": {
   "base_numbering": 1,
   "nav_menu": {},
   "number_sections": true,
   "sideBar": true,
   "skip_h1_title": false,
   "title_cell": "Table of Contents",
   "title_sidebar": "Contents",
   "toc_cell": false,
   "toc_position": {
    "height": "calc(100% - 180px)",
    "left": "10px",
    "top": "150px",
    "width": "384.764px"
   },
   "toc_section_display": true,
   "toc_window_display": true
  }
 },
 "nbformat": 4,
 "nbformat_minor": 5
}
